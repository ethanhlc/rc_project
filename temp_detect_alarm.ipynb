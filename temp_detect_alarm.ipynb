{
 "cells": [
  {
   "cell_type": "markdown",
   "id": "9eab73ae",
   "metadata": {},
   "source": [
    "## Imports"
   ]
  },
  {
   "cell_type": "code",
   "execution_count": 21,
   "id": "fccbb687",
   "metadata": {},
   "outputs": [],
   "source": [
    "import RPi.GPIO as GPIO\n",
    "import spidev\n",
    "import time\n",
    "import json\n",
    "import requests"
   ]
  },
  {
   "cell_type": "markdown",
   "id": "7a1ff5b3",
   "metadata": {},
   "source": [
    "## Setup Code"
   ]
  },
  {
   "cell_type": "code",
   "execution_count": 22,
   "id": "7dfe0dc9",
   "metadata": {},
   "outputs": [],
   "source": [
    "# Pin Setup\n",
    "temp_pin = 3\n",
    "buzzer_pin = 4\n",
    "LED_R_pin = 2\n",
    "\n",
    "# Setup GPIO\n",
    "GPIO.setmode(GPIO.BCM)\n",
    "GPIO.setup(buzzer_pin, GPIO.OUT)\n",
    "GPIO.setup(LED_R_pin, GPIO.OUT)\n",
    "buzz = GPIO.PWM(buzzer_pin, 100)\n",
    "\n",
    "# Setup SPI\n",
    "spi = spidev.SpiDev()\n",
    "spi.open(0, 0)\n",
    "spi.max_speed_hz = 1_000_000"
   ]
  },
  {
   "cell_type": "markdown",
   "id": "e555603b",
   "metadata": {},
   "source": [
    "### Temp Read Function"
   ]
  },
  {
   "cell_type": "code",
   "execution_count": 2,
   "id": "a25ce235",
   "metadata": {},
   "outputs": [],
   "source": [
    "def temp_read(channel):\n",
    "    r = spi.xfer2([1, (0x08 + channel) << 4, 0])\n",
    "    adc_out = ((r[1] & 0x03) << 8) + r[2]\n",
    "    voltage = adc_out * (3.3 / 1023) * 1000\n",
    "    temperature = voltage / 10.0\n",
    "    \n",
    "    print(temperature)\n",
    "    return temperature"
   ]
  },
  {
   "cell_type": "code",
   "execution_count": 30,
   "id": "071f668f",
   "metadata": {},
   "outputs": [
    {
     "name": "stdout",
     "output_type": "stream",
     "text": [
      "Temperature = 21.61\n",
      "Temperature = 21.61\n",
      "Temperature = 21.29\n",
      "Temperature = 21.61\n",
      "Temperature = 21.61\n",
      "Temperature = 21.61\n",
      "Temperature = 21.61\n",
      "\n",
      "STOP\n"
     ]
    }
   ],
   "source": [
    "spi = spidev.SpiDev()\n",
    "spi.open(0, 0)\n",
    "spi.max_speed_hz = 1_000_000\n",
    "\n",
    "try:\n",
    "    while True:\n",
    "        temp = temp_read(temp_pin)\n",
    "        print('Temperature =', round(temp, 2))\n",
    "        time.sleep(1)\n",
    "\n",
    "except KeyboardInterrupt:\n",
    "    print('\\nSTOP')\n",
    "    pass\n",
    "\n",
    "finally:\n",
    "    spi.close()"
   ]
  },
  {
   "cell_type": "markdown",
   "id": "8ddd8db5",
   "metadata": {},
   "source": [
    "### Msg Send Function"
   ]
  },
  {
   "cell_type": "code",
   "execution_count": 41,
   "id": "efdbe032",
   "metadata": {},
   "outputs": [],
   "source": [
    "def send_msg():\n",
    "    # User Token\n",
    "    usr_token = \"zoPSqzZP81dswlWQ1KS9hM9T1vszRqaOf0KvBjdzCj11WgAAAYVOZE1_\"\n",
    "\n",
    "    url = \"https://kapi.kakao.com/v2/api/talk/memo/default/send\"\n",
    "\n",
    "    headers = {\n",
    "        \"Content-Type\": \"application/x-www-form-urlencoded\",\n",
    "        \"Authorization\": \"Bearer \" + usr_token\n",
    "    }\n",
    "\n",
    "    data = {\n",
    "        \"template_object\": json.dumps({\n",
    "            \"object_type\": \"text\",\n",
    "            \"text\": \"Intruder Detected!!\",\n",
    "            \"link\": {\n",
    "                \"web_url\": \"https://www.google.com\",\n",
    "                \"mobile_web_url\": \"https://www.google.com\"\n",
    "            }\n",
    "        })\n",
    "     }\n",
    "\n",
    "    # send kakao msg\n",
    "    response = requests.post(url, headers=headers, data=data)\n",
    "    print(response.status_code)\n",
    "    if response.json().get('result_code') == 0:\n",
    "        print('Message send succeeded.')\n",
    "    else:\n",
    "        print('Message send failed: ' + str(response.json()))"
   ]
  },
  {
   "cell_type": "code",
   "execution_count": 42,
   "id": "9da35061",
   "metadata": {},
   "outputs": [
    {
     "name": "stdout",
     "output_type": "stream",
     "text": [
      "200\n",
      "Message send succeeded.\n"
     ]
    }
   ],
   "source": [
    "send_msg()"
   ]
  },
  {
   "cell_type": "markdown",
   "id": "b8a750bc",
   "metadata": {},
   "source": [
    "### Alarm Ring Function"
   ]
  },
  {
   "cell_type": "code",
   "execution_count": 47,
   "id": "3c3583df",
   "metadata": {},
   "outputs": [],
   "source": [
    "def alarm_led():\n",
    "    buzz.start(1)\n",
    "    GPIO.output(LED_pin, True)\n",
    "    time.sleep(0.5)\n",
    "    buzz.stop()\n",
    "    GPIO.output(LED_pin, False)\n",
    "    "
   ]
  },
  {
   "cell_type": "code",
   "execution_count": 48,
   "id": "378aca64",
   "metadata": {},
   "outputs": [
    {
     "name": "stdout",
     "output_type": "stream",
     "text": [
      "\n",
      "STOP\n"
     ]
    }
   ],
   "source": [
    "# Pin Setup\n",
    "LED_pin = 2\n",
    "temp_pin = 3\n",
    "buzzer_pin = 4\n",
    "\n",
    "# Setup GPIO\n",
    "GPIO.setmode(GPIO.BCM)\n",
    "GPIO.setup(LED_pin, GPIO.OUT)\n",
    "GPIO.setup(buzzer_pin, GPIO.OUT)\n",
    "buzz = GPIO.PWM(buzzer_pin, 100)\n",
    "\n",
    "spi = spidev.SpiDev()\n",
    "spi.open(0, 0)\n",
    "spi.max_speed_hz = 1_000_000\n",
    "\n",
    "alarm_state = 0\n",
    "\n",
    "try:\n",
    "    while True:\n",
    "        if alarm_state == 1:\n",
    "            # ring buzzer\n",
    "            alarm_led()\n",
    "        if temp_read(3) > 22:\n",
    "            alarm_state = 1\n",
    "            # send_msg()  # send kakao msg\n",
    "            \n",
    "        time.sleep(1)\n",
    "\n",
    "except KeyboardInterrupt:\n",
    "    print('\\nSTOP')\n",
    "    pass\n",
    "\n",
    "finally:\n",
    "    spi.close()\n",
    "    buzz.stop()\n",
    "    GPIO.cleanup()"
   ]
  },
  {
   "cell_type": "code",
   "execution_count": null,
   "id": "14cf8621",
   "metadata": {},
   "outputs": [],
   "source": []
  }
 ],
 "metadata": {
  "kernelspec": {
   "display_name": "Python 3 (ipykernel)",
   "language": "python",
   "name": "python3"
  },
  "language_info": {
   "codemirror_mode": {
    "name": "ipython",
    "version": 3
   },
   "file_extension": ".py",
   "mimetype": "text/x-python",
   "name": "python",
   "nbconvert_exporter": "python",
   "pygments_lexer": "ipython3",
   "version": "3.9.2"
  }
 },
 "nbformat": 4,
 "nbformat_minor": 5
}
